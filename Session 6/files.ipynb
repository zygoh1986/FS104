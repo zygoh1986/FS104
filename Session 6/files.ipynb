{
 "metadata": {
  "language_info": {
   "codemirror_mode": {
    "name": "ipython",
    "version": 3
   },
   "file_extension": ".py",
   "mimetype": "text/x-python",
   "name": "python",
   "nbconvert_exporter": "python",
   "pygments_lexer": "ipython3",
   "version": "3.9.1-final"
  },
  "orig_nbformat": 2,
  "kernelspec": {
   "name": "Python 3.9.1 64-bit",
   "display_name": "Python 3.9.1 64-bit",
   "metadata": {
    "interpreter": {
     "hash": "4cd7ab41f5fca4b9b44701077e38c5ffd31fe66a6cab21e0214b68d958d0e462"
    }
   }
  }
 },
 "nbformat": 4,
 "nbformat_minor": 2,
 "cells": [
  {
   "cell_type": "code",
   "execution_count": 1,
   "metadata": {},
   "outputs": [],
   "source": [
    "# Create a file\n",
    "# file_object = open(\"filename\", \"mode\")\n",
    "\n",
    "file_object = open(\"test1.txt\", \"w\")\n",
    "file_object.write(\"test 1\")\n",
    "file_object.close()"
   ]
  },
  {
   "cell_type": "code",
   "execution_count": 2,
   "metadata": {},
   "outputs": [],
   "source": [
    "file_string = str(input(\"Enter Text here:\"))\n",
    "\n",
    "def write(text):\n",
    "    file_object = open(\"testfile\",\"w\")\n",
    "    file_object.write(text)\n",
    "    file_object.close()\n",
    "\n",
    "write(file_string)"
   ]
  },
  {
   "cell_type": "code",
   "execution_count": 8,
   "metadata": {},
   "outputs": [],
   "source": [
    "#Append text to a file\n",
    "\n",
    "def append_to_file(argument_from_function):\n",
    "    file_object=open(\"test1.txt\", \"a+\")\n",
    "    file_object.write(argument_from_function)\n",
    "    file_object.close()\n",
    "\n",
    "append_to_file(\"Hi there, its me again!\")"
   ]
  },
  {
   "cell_type": "code",
   "execution_count": 10,
   "metadata": {},
   "outputs": [
    {
     "output_type": "stream",
     "name": "stdout",
     "text": [
      "test 1 \nHi there, its me again!\nHello this is ZY\n"
     ]
    }
   ],
   "source": [
    "# Reading a file\n",
    "\n",
    "file_object=open(\"test1.txt\", \"r\")\n",
    "\n",
    "if file_object.mode == 'r':\n",
    "    contents=file_object.read()\n",
    "    print(contents)"
   ]
  },
  {
   "cell_type": "code",
   "execution_count": 11,
   "metadata": {},
   "outputs": [
    {
     "output_type": "stream",
     "name": "stdout",
     "text": [
      "{'name': 'ZY', 'languages': ['english', 'spanish']}\n['english', 'spanish']\n"
     ]
    }
   ],
   "source": [
    "import json\n",
    "\n",
    "person = '{\"name\": \"ZY\", \"languages\": [\"english\", \"spanish\"]}'\n",
    "person_dict = json.loads(person)\n",
    "print(person_dict)\n",
    "\n",
    "print(person_dict['languages'])"
   ]
  },
  {
   "cell_type": "code",
   "execution_count": 13,
   "metadata": {},
   "outputs": [
    {
     "output_type": "stream",
     "name": "stdout",
     "text": [
      "{\"name\": \"Vaibhav\", \"age\": 35, \"children\": null}\n"
     ]
    }
   ],
   "source": [
    "#dict to json\n",
    "import json\n",
    "\n",
    "person_dict = {'name': 'Vaibhav',\n",
    "'age': 35,\n",
    "'children': None\n",
    "}\n",
    "person_json = json.dumps(person_dict)\n",
    "\n",
    "print(person_json)"
   ]
  },
  {
   "cell_type": "code",
   "execution_count": 14,
   "metadata": {},
   "outputs": [],
   "source": [
    "#json to a file\n",
    "\n",
    "import json\n",
    "\n",
    "person_dict = {\"name\": \"Vaibhav\",\n",
    "\"languages\": [\"English\", \"Hindi\"],\n",
    "\"married\": True,\n",
    "\"age\": 35\n",
    "}\n",
    "\n",
    "with open('person.txt', 'w') as json_file:\n",
    "  json.dump(person_dict, json_file)"
   ]
  },
  {
   "cell_type": "code",
   "execution_count": 30,
   "metadata": {},
   "outputs": [
    {
     "output_type": "stream",
     "name": "stdout",
     "text": [
      "Vaibhav Vashishtha\n"
     ]
    }
   ],
   "source": [
    "person_dict = {\n",
    "    'first_name': 'Vaibhav',\n",
    "    'last_name': 'Vashishtha'\n",
    "}\n",
    "\n",
    "print(person_dict['first_name'], person_dict['last_name'])"
   ]
  },
  {
   "cell_type": "code",
   "execution_count": 34,
   "metadata": {},
   "outputs": [
    {
     "output_type": "stream",
     "name": "stdout",
     "text": [
      "* \n* * \n* * * \n* * * * \n* * * * * \n"
     ]
    }
   ],
   "source": [
    "for i in range(5):\n",
    "    for j in range(i+1):\n",
    "        print(end=\"* \")\n",
    "    print()"
   ]
  },
  {
   "cell_type": "code",
   "execution_count": null,
   "metadata": {},
   "outputs": [],
   "source": []
  },
  {
   "cell_type": "code",
   "execution_count": null,
   "metadata": {},
   "outputs": [],
   "source": []
  }
 ]
}