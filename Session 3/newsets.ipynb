{
 "metadata": {
  "language_info": {
   "codemirror_mode": {
    "name": "ipython",
    "version": 3
   },
   "file_extension": ".py",
   "mimetype": "text/x-python",
   "name": "python",
   "nbconvert_exporter": "python",
   "pygments_lexer": "ipython3",
   "version": 3
  },
  "orig_nbformat": 2
 },
 "nbformat": 4,
 "nbformat_minor": 2,
 "cells": [
  {
   "cell_type": "code",
   "execution_count": null,
   "metadata": {},
   "outputs": [],
   "source": [
    "newset = {1,2,3}\n",
    "print(type(newset))"
   ]
  },
  {
   "cell_type": "code",
   "execution_count": null,
   "metadata": {},
   "outputs": [],
   "source": [
    "newset = {1,2,3, 'zy'}\n",
    "newset"
   ]
  },
  {
   "cell_type": "code",
   "execution_count": null,
   "metadata": {},
   "outputs": [],
   "source": [
    "newset = {1,2,3, 'zy', 3,2,1}\n",
    "newset"
   ]
  },
  {
   "cell_type": "code",
   "execution_count": null,
   "metadata": {},
   "outputs": [],
   "source": [
    "# Python intersection example using the & operator\n",
    "setA = {'a', 'e', 'i', 'o', 'u', 'g', 'h'}\n",
    "setB = {'a', 'e', 'z', 'b', 't', 'o', 'u'}\n",
    "\n",
    "print(\"Initial setA:\", setA, \"size:\", len(setA))\n",
    "print(\"Initial setB:\", setB, \"size:\", len(setB))\n",
    "\n",
    "print(\"(setA & setB):\", setA & setB, \"size:\", len(setA & setB)) "
   ]
  },
  {
   "cell_type": "code",
   "execution_count": null,
   "metadata": {},
   "outputs": [],
   "source": [
    "# Python set example to test elements in a set\n",
    "basket = set([\"apple\", \"mango\", \"banana\", \"grapes\", \"orange\"])\n",
    "\n",
    "# confirm if 'apple' is in the basket\n",
    "print(\"Is 'apple' in the basket?\", 'apple' in basket)\n",
    "\n",
    "# confirm if 'grapes' is in the basket\n",
    "print(\"Is 'watermelon' in the basket?\", 'watermelon' in basket) "
   ]
  }
 ]
}