{
 "metadata": {
  "language_info": {
   "codemirror_mode": {
    "name": "ipython",
    "version": 3
   },
   "file_extension": ".py",
   "mimetype": "text/x-python",
   "name": "python",
   "nbconvert_exporter": "python",
   "pygments_lexer": "ipython3",
   "version": 3
  },
  "orig_nbformat": 2
 },
 "nbformat": 4,
 "nbformat_minor": 2,
 "cells": [
  {
   "cell_type": "code",
   "execution_count": null,
   "metadata": {},
   "outputs": [],
   "source": [
    "dict = {'Student Name': 'Berry', 'Roll No.': 12, 'Subject': 'English'}\n",
    "print(\"dict['Student Name']: \", dict['Student Name'])\n",
    "print(\"dict['Roll No.']: \", dict['Roll No.'])"
   ]
  },
  {
   "cell_type": "code",
   "execution_count": null,
   "metadata": {},
   "outputs": [],
   "source": [
    "dict = {'Student Name': 'Berry', 'Roll No.': 12, 'Subject': 'English'}\n",
    "print(\"Keys are:\")\n",
    "for k in dict:     print(k, dict[k])"
   ]
  }
 ]
}