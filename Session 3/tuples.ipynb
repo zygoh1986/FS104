{
 "metadata": {
  "language_info": {
   "codemirror_mode": {
    "name": "ipython",
    "version": 3
   },
   "file_extension": ".py",
   "mimetype": "text/x-python",
   "name": "python",
   "nbconvert_exporter": "python",
   "pygments_lexer": "ipython3",
   "version": 3
  },
  "orig_nbformat": 2
 },
 "nbformat": 4,
 "nbformat_minor": 2,
 "cells": [
  {
   "cell_type": "code",
   "execution_count": null,
   "metadata": {},
   "outputs": [],
   "source": [
    "# create an empty tuple\n",
    "py_tuple = ()\n",
    "print(\"A blank tuple:\", py_tuple)\n",
    "\n",
    "# create a tuple without using round brackets\n",
    "py_tuple = 33, 55, 77\n",
    "print(\"A tuple set without parenthesis:\", py_tuple, \"type:\", type(py_tuple))\n",
    "\n",
    "# create a tuple of numbers\n",
    "py_tuple = (33, 55, 77)\n",
    "print(\"A tuple of numbers:\", py_tuple)\n",
    "\n",
    "# create a tuple of mixed numbers\n",
    "# such as integer, float, imaginary\n",
    "py_tuple = (33, 3.3, 3+3j)\n",
    "print(\"A tuple of mixed numbers:\", py_tuple)\n",
    "\n",
    "# create a tuple of mixed data types\n",
    "# such as numbers, strings, lists\n",
    "py_tuple = (33, \"33\", [3, 3])\n",
    "print(\"A tuple of mixed data types:\", py_tuple)\n",
    "\n",
    "# create a tuple of tuples\n",
    "# i.e. a nested tuple\n",
    "py_tuple = (('x', 'y', 'z'), ('X', 'Y', 'Z'))\n",
    "print(\"A tuple of tuples:\", py_tuple) "
   ]
  },
  {
   "cell_type": "code",
   "execution_count": null,
   "metadata": {},
   "outputs": [],
   "source": []
  }
 ]
}